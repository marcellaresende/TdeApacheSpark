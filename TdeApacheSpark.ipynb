{
  "nbformat": 4,
  "nbformat_minor": 0,
  "metadata": {
    "colab": {
      "provenance": []
    },
    "kernelspec": {
      "name": "python3",
      "display_name": "Python 3"
    },
    "language_info": {
      "name": "python"
    }
  },
  "cells": [
    {
      "cell_type": "markdown",
      "source": [
        "# **TDE 02: APACHE SPARK**\n",
        "### **Nomes:** Marcella Resende, João Xavier, Sofia Castilho, Bruno Imai"
      ],
      "metadata": {
        "id": "bvFxA-C7KI7M"
      }
    },
    {
      "cell_type": "code",
      "source": [
        "!pip install -q findspark\n",
        "!pip install -q pyspark"
      ],
      "metadata": {
        "id": "RkWkViFMK1FM",
        "colab": {
          "base_uri": "https://localhost:8080/"
        },
        "outputId": "7734d902-cbd9-45ea-f33a-39cf46092a30"
      },
      "execution_count": 1,
      "outputs": [
        {
          "output_type": "stream",
          "name": "stdout",
          "text": [
            "\u001b[K     |████████████████████████████████| 281.4 MB 39 kB/s \n",
            "\u001b[K     |████████████████████████████████| 199 kB 57.2 MB/s \n",
            "\u001b[?25h  Building wheel for pyspark (setup.py) ... \u001b[?25l\u001b[?25hdone\n"
          ]
        }
      ]
    },
    {
      "cell_type": "code",
      "source": [
        "import findspark\n",
        "findspark.init()\n",
        "\n",
        "from pyspark import SparkConf, SparkContext, SparkFiles\n",
        "\n",
        "conf = SparkConf().setAppName(\"tdeApacheSpark\").setMaster(\"local[*]\")\n",
        "\n",
        "sc = SparkContext.getOrCreate(conf = conf)\n",
        "\n",
        "\n",
        "rdd = sc.textFile(\"/content/transactions_menor.csv\")"
      ],
      "metadata": {
        "id": "fEItHjSCc92S"
      },
      "execution_count": 2,
      "outputs": []
    },
    {
      "cell_type": "code",
      "source": [
        "#Pega a primeira linha - cabeçalho\n",
        "cabecalho = rdd.first()"
      ],
      "metadata": {
        "id": "GV7CgHrMe4tr"
      },
      "execution_count": null,
      "outputs": []
    },
    {
      "cell_type": "code",
      "source": [
        "#Remove o cabeçalho\n",
        "rdd  = rdd.filter(lambda c: c != cabecalho)"
      ],
      "metadata": {
        "id": "ZJOO3DG-Ppj8"
      },
      "execution_count": null,
      "outputs": []
    },
    {
      "cell_type": "code",
      "source": [
        "#Index das colunas na base de dados\n",
        "pais = 0\n",
        "ano = 1\n",
        "commodity_code = 2\n",
        "commodity = 3\n",
        "flow = 4\n",
        "trade_usd = 5\n",
        "quantity_name = 7\n",
        "quantity = 8"
      ],
      "metadata": {
        "id": "zm5ID5jYM71I"
      },
      "execution_count": 6,
      "outputs": []
    },
    {
      "cell_type": "markdown",
      "source": [
        "# **Questão 1**\n",
        "### Número de transações envolvendo o Brasil"
      ],
      "metadata": {
        "id": "91CzYHMsKqqh"
      }
    },
    {
      "cell_type": "code",
      "source": [
        "#Só resulta onde país possui 'Brazil'\n",
        "rdd_brasil = rdd.filter(lambda x: x.split(';')[pais] == 'Brazil')\n",
        "\n",
        "#Realiza a função map e retorna como chave(Brasil, 1)\n",
        "rdd_transacoes_brasil = rdd_brasil.map(lambda x: (x.split(';')[pais],1))\n",
        "\n",
        "#Soma as ocorrências encontradas pela chave através da função countByKey\n",
        "rdd_transacoes_brasil.countByKey()"
      ],
      "metadata": {
        "colab": {
          "base_uri": "https://localhost:8080/"
        },
        "id": "psbDYlyQUXj3",
        "outputId": "1a6536bc-9fba-4cda-9153-dedf683221ff"
      },
      "execution_count": null,
      "outputs": [
        {
          "output_type": "execute_result",
          "data": {
            "text/plain": [
              "defaultdict(int, {'Brazil': 54762})"
            ]
          },
          "metadata": {},
          "execution_count": 32
        }
      ]
    },
    {
      "cell_type": "code",
      "source": [
        "#Retorna como chave(Brasil, 1)\n",
        "def map_brasil(linha):\n",
        "  return (\"Brasil\", 1)\n",
        "\n",
        "#Soma as ocorrências encontradas pela chave\n",
        "def reduce_brasil(a,b):\n",
        "  return a + b\n",
        "\n",
        "#Realiza o map através da função 'map_brasil' e em seguida realiza o reduce pela chave através da função reduce_brasil.\n",
        "#Posteriormente, salva os resultados em um arquivo txt\n",
        "def transacoes_brasil(con):\n",
        "  map_resultado = rdd_brasil.map(map_brasil)\n",
        "  numero_transacoes_brasil = map_resultado.reduceByKey(reduce_brasil)\n",
        "  numero_transacoes_brasil.saveAsTextFile(\"/content/output/Q1\")"
      ],
      "metadata": {
        "id": "8Gs_XawwKz7a"
      },
      "execution_count": null,
      "outputs": []
    },
    {
      "cell_type": "code",
      "source": [
        "#chama a função transacoes_brasil com a base de dados\n",
        "transacoes_brasil(sc)"
      ],
      "metadata": {
        "id": "HOskwVa66Mqu"
      },
      "execution_count": null,
      "outputs": []
    },
    {
      "cell_type": "markdown",
      "source": [
        "#Questão 2\n",
        "### Número de transações por ano"
      ],
      "metadata": {
        "id": "tUhemvWAWIpY"
      }
    },
    {
      "cell_type": "code",
      "source": [
        "#Realiza a função map e retorna o ano como chave e 1 como valor\n",
        "rdd_ano = rdd.map(lambda x: (x.split(';')[ano],1))\n",
        "\n",
        "#Soma as ocorrências encontradas pela chave através da função countByKey e ordena com a função sorted\n",
        "sorted(rdd_ano.countByKey().items())"
      ],
      "metadata": {
        "colab": {
          "base_uri": "https://localhost:8080/"
        },
        "id": "TvoGb67v1SNH",
        "outputId": "63aea06a-3f07-44ef-dac1-b9f964d67329"
      },
      "execution_count": null,
      "outputs": [
        {
          "output_type": "execute_result",
          "data": {
            "text/plain": [
              "[('1988', 8568),\n",
              " ('1989', 16916),\n",
              " ('1990', 18188),\n",
              " ('1991', 22652),\n",
              " ('1992', 32860),\n",
              " ('1993', 42031),\n",
              " ('1994', 54143),\n",
              " ('1995', 63875),\n",
              " ('1996', 70390),\n",
              " ('1997', 77876),\n",
              " ('1998', 81117),\n",
              " ('1999', 86191),\n",
              " ('2000', 97572),\n",
              " ('2001', 97240),\n",
              " ('2002', 97202),\n",
              " ('2003', 101125),\n",
              " ('2004', 103671),\n",
              " ('2005', 105913),\n",
              " ('2006', 109186),\n",
              " ('2007', 105891),\n",
              " ('2008', 102680),\n",
              " ('2009', 105686),\n",
              " ('2010', 105407),\n",
              " ('2011', 105486),\n",
              " ('2012', 102989),\n",
              " ('2013', 104734),\n",
              " ('2014', 103231),\n",
              " ('2015', 101973),\n",
              " ('2016', 82277)]"
            ]
          },
          "metadata": {},
          "execution_count": 30
        }
      ]
    },
    {
      "cell_type": "code",
      "source": [
        "#Divide a base de dados através do split tendo como parâmetro ';', em seguida retorna como chave o ano e como valor 1\n",
        "def map_ano(linha):\n",
        "  colunas = linha.split(\";\")\n",
        "  return (colunas[ano], 1) \n",
        "\n",
        "#Soma as ocorrências por chave\n",
        "def reduce_ano(a,b):\n",
        "  return a + b\n",
        "\n",
        "#Realiza o map através da função 'map_ano' e em seguida realiza o reduce pela chave através da função reduce_ano. \n",
        "#Posteriormente, salva os resultados em um arquivo txt\n",
        "def transacoes_ano(con):\n",
        "  map_resultado = rdd.map(map_ano)\n",
        "  numero_transacoes_ano = map_resultado.reduceByKey(reduce_ano)\n",
        "  ##numero = numero_transacoes_ano.sortBy(lambda x: x[1],True)\n",
        "  numero_transacoes_ano.saveAsTextFile(\"/content/output/Q2\")"
      ],
      "metadata": {
        "id": "Edq6PUTVWSz0"
      },
      "execution_count": null,
      "outputs": []
    },
    {
      "cell_type": "code",
      "source": [
        "#chama a função transacoes_ano com a base de dados\n",
        "transacoes_ano(sc)"
      ],
      "metadata": {
        "id": "xDLYz7_HRnfm"
      },
      "execution_count": null,
      "outputs": []
    },
    {
      "cell_type": "markdown",
      "source": [
        "# Questão 3\n",
        "### Número de transações por tipo de fluxo e por ano"
      ],
      "metadata": {
        "id": "2eTsdIpgnOvN"
      }
    },
    {
      "cell_type": "code",
      "source": [
        "#Realiza a função map e retorna o tipo de fluxo e o ano como chave e 1 como valor\n",
        "rdd_tipo_ano = rdd.map(lambda x: ((x.split(\";\")[flow], x.split(\";\")[ano]), 1))\n",
        "\n",
        "#Soma as ocorrências encontradas pela chave através da função countByKey e ordena com a função sorted\n",
        "sorted(rdd_tipo_ano.countByKey().items())"
      ],
      "metadata": {
        "colab": {
          "base_uri": "https://localhost:8080/"
        },
        "id": "aZoXwua93C0E",
        "outputId": "b67df8e2-2823-4dcb-cef5-8e28cc70fc0a"
      },
      "execution_count": null,
      "outputs": [
        {
          "output_type": "execute_result",
          "data": {
            "text/plain": [
              "[(('Export', '1988'), 10),\n",
              " (('Export', '1989'), 12),\n",
              " (('Export', '1990'), 7),\n",
              " (('Export', '1991'), 9),\n",
              " (('Export', '1992'), 19),\n",
              " (('Export', '1993'), 22),\n",
              " (('Export', '1994'), 30),\n",
              " (('Export', '1995'), 33),\n",
              " (('Export', '1996'), 32),\n",
              " (('Export', '1997'), 41),\n",
              " (('Export', '1998'), 32),\n",
              " (('Export', '1999'), 48),\n",
              " (('Export', '2000'), 58),\n",
              " (('Export', '2001'), 46),\n",
              " (('Export', '2002'), 60),\n",
              " (('Export', '2003'), 49),\n",
              " (('Export', '2004'), 47),\n",
              " (('Export', '2005'), 50),\n",
              " (('Export', '2006'), 47),\n",
              " (('Export', '2007'), 55),\n",
              " (('Export', '2008'), 52),\n",
              " (('Export', '2009'), 52),\n",
              " (('Export', '2010'), 61),\n",
              " (('Export', '2011'), 55),\n",
              " (('Export', '2012'), 49),\n",
              " (('Export', '2013'), 50),\n",
              " (('Export', '2014'), 62),\n",
              " (('Export', '2015'), 55),\n",
              " (('Export', '2016'), 53),\n",
              " (('Import', '1988'), 5),\n",
              " (('Import', '1989'), 14),\n",
              " (('Import', '1990'), 26),\n",
              " (('Import', '1991'), 21),\n",
              " (('Import', '1992'), 28),\n",
              " (('Import', '1993'), 33),\n",
              " (('Import', '1994'), 47),\n",
              " (('Import', '1995'), 64),\n",
              " (('Import', '1996'), 55),\n",
              " (('Import', '1997'), 71),\n",
              " (('Import', '1998'), 85),\n",
              " (('Import', '1999'), 85),\n",
              " (('Import', '2000'), 96),\n",
              " (('Import', '2001'), 88),\n",
              " (('Import', '2002'), 74),\n",
              " (('Import', '2003'), 76),\n",
              " (('Import', '2004'), 82),\n",
              " (('Import', '2005'), 118),\n",
              " (('Import', '2006'), 101),\n",
              " (('Import', '2007'), 117),\n",
              " (('Import', '2008'), 95),\n",
              " (('Import', '2009'), 72),\n",
              " (('Import', '2010'), 84),\n",
              " (('Import', '2011'), 95),\n",
              " (('Import', '2012'), 98),\n",
              " (('Import', '2013'), 90),\n",
              " (('Import', '2014'), 86),\n",
              " (('Import', '2015'), 108),\n",
              " (('Import', '2016'), 70),\n",
              " (('Re-Export', '1988'), 1),\n",
              " (('Re-Export', '1990'), 1),\n",
              " (('Re-Export', '1991'), 1),\n",
              " (('Re-Export', '1992'), 1),\n",
              " (('Re-Export', '1993'), 2),\n",
              " (('Re-Export', '1994'), 3),\n",
              " (('Re-Export', '1995'), 1),\n",
              " (('Re-Export', '1996'), 3),\n",
              " (('Re-Export', '1997'), 6),\n",
              " (('Re-Export', '1998'), 2),\n",
              " (('Re-Export', '1999'), 6),\n",
              " (('Re-Export', '2000'), 6),\n",
              " (('Re-Export', '2001'), 3),\n",
              " (('Re-Export', '2002'), 4),\n",
              " (('Re-Export', '2003'), 9),\n",
              " (('Re-Export', '2004'), 4),\n",
              " (('Re-Export', '2005'), 8),\n",
              " (('Re-Export', '2006'), 7),\n",
              " (('Re-Export', '2007'), 12),\n",
              " (('Re-Export', '2008'), 3),\n",
              " (('Re-Export', '2009'), 10),\n",
              " (('Re-Export', '2010'), 5),\n",
              " (('Re-Export', '2011'), 10),\n",
              " (('Re-Export', '2012'), 6),\n",
              " (('Re-Export', '2013'), 7),\n",
              " (('Re-Export', '2014'), 11),\n",
              " (('Re-Export', '2015'), 6),\n",
              " (('Re-Export', '2016'), 5),\n",
              " (('Re-Import', '2000'), 3),\n",
              " (('Re-Import', '2001'), 2),\n",
              " (('Re-Import', '2002'), 4),\n",
              " (('Re-Import', '2003'), 3),\n",
              " (('Re-Import', '2004'), 4),\n",
              " (('Re-Import', '2005'), 7),\n",
              " (('Re-Import', '2006'), 4),\n",
              " (('Re-Import', '2007'), 5),\n",
              " (('Re-Import', '2008'), 6),\n",
              " (('Re-Import', '2009'), 7),\n",
              " (('Re-Import', '2010'), 1),\n",
              " (('Re-Import', '2011'), 7),\n",
              " (('Re-Import', '2012'), 7),\n",
              " (('Re-Import', '2013'), 4),\n",
              " (('Re-Import', '2014'), 6),\n",
              " (('Re-Import', '2015'), 2),\n",
              " (('Re-Import', '2016'), 4),\n",
              " (('flow', 'year'), 1)]"
            ]
          },
          "metadata": {},
          "execution_count": 14
        }
      ]
    },
    {
      "cell_type": "code",
      "source": [
        "#Divide a base de dados através do split tendo como parâmetro ';', em seguida retorna como chave o tipo de fluxo e o ano e como valor \n",
        "def map_tipo_ano(linha):\n",
        "  colunas = linha.split(\";\")\n",
        "  return ((colunas[flow], colunas[ano]), 1)\n",
        "\n",
        "#Soma as ocorrências por chave\n",
        "def reduce_tipo_ano (a,b):\n",
        "  return a + b\n",
        "\n",
        "#Realiza o map através da função 'map_tipo_ano' e em seguida realiza o reduce pela chave através da função reduce_tipo_ano. \n",
        "#Posteriormente, salva os resultados em um arquivo txt\n",
        "def transacoes_tipo_ano(con):\n",
        "  map_resultado = rdd.map(map_tipo_ano)\n",
        "  qtd_tipo_ano = map_resultado.reduceByKey(reduce_tipo_ano)\n",
        "  qtd_tipo_ano.saveAsTextFile(\"/content/output/Q3\")\n"
      ],
      "metadata": {
        "id": "u_kVtF2V4cor"
      },
      "execution_count": 9,
      "outputs": []
    },
    {
      "cell_type": "code",
      "source": [
        "#chama a função transacoes_tipo_ano com a base de dados\n",
        "transacoes_tipo_ano(sc)"
      ],
      "metadata": {
        "id": "jfR81UEI-ary"
      },
      "execution_count": 10,
      "outputs": []
    },
    {
      "cell_type": "markdown",
      "source": [
        "# Questão 4\n",
        "### O preço médio das commodities por ano"
      ],
      "metadata": {
        "id": "CQtM-mhC_A2r"
      }
    },
    {
      "cell_type": "code",
      "source": [
        "#Realiza a função map e retorna o ano e o código da commodity como chave e o preço da commodity e 1 como valor\n",
        "rdd_media_ano = rdd.map(lambda x: ((x.split(';')[ano], x.split(\";\")[commodity_code]), (float(x.split(';')[trade_usd]), 1)))\n",
        "\n",
        "#Através do reduceByKey, soma os preços da commodity e a quantidade de 1 para cada chave\n",
        "somas = rdd_media_ano.reduceByKey(lambda x, y: (x[0] + y[0], x[1] + y[1]))\n",
        "\n",
        "#Através da função mapValues divide a soma dos preços e a quantidade encontrada por chave\n",
        "preço_medio_commodities_ano = somas.mapValues(lambda x: (x[0] / x[1]))\n",
        "\n",
        "#Faz a ordenação ascendente pelas chaves retornando os dez primeiros resultados encontrados através da função take\n",
        "preço_medio_commodities_ano.sortByKey(ascending=True).take(10)"
      ],
      "metadata": {
        "colab": {
          "base_uri": "https://localhost:8080/"
        },
        "id": "S2Ps-MjOAmZp",
        "outputId": "e777191c-bd74-4091-e94a-eb7f292aa42e"
      },
      "execution_count": null,
      "outputs": [
        {
          "output_type": "execute_result",
          "data": {
            "text/plain": [
              "[(('1988', '100110'), 1902536.5),\n",
              " (('1988', '100190'), 95262069.0),\n",
              " (('1988', '100200'), 11254924.333333334),\n",
              " (('1988', '100300'), 28633115.666666668),\n",
              " (('1988', '100400'), 15893620.666666666),\n",
              " (('1988', '100510'), 4172584.625),\n",
              " (('1988', '100590'), 14670304.75),\n",
              " (('1988', '100610'), 459162.0),\n",
              " (('1988', '100620'), 10741745.666666666),\n",
              " (('1988', '100630'), 37426167.5)]"
            ]
          },
          "metadata": {},
          "execution_count": 88
        }
      ]
    },
    {
      "cell_type": "code",
      "source": [
        "#Divide a base de dados através do split tendo como parâmetro ';', em seguida retorna como chave o ano e o código da \n",
        "#commodity e como valor o preço da commodity e 1\n",
        "def map_media_ano(linha):\n",
        "  colunas = linha.split(\";\")\n",
        "  return((colunas[ano], colunas[commodity_code]), (float(colunas[trade_usd]), 1))\n",
        "\n",
        "#Soma os preços da commodity e a quantidade de 1 para cada chave, retornando a soma dos preços e a soma dos contadores\n",
        "def somas_media_ano(a,b):\n",
        "  sum_preco = a[0] + b[0]\n",
        "  sum_count = a[1] + b[1]\n",
        "  return (sum_preco, sum_count)\n",
        "\n",
        "#Divide a soma dos preços pela quantidade\n",
        "def reduce_media_ano(a):\n",
        "  return a[0] / a[1]\n",
        "\n",
        "#Realiza o map através da função 'map_media_ano', em seguida realiza o reduce pela chave através da função somas_media_ano. \n",
        "#Depois, através da função mapValues chamando reduce_media_ano divide a soma dos preços e a quantidade encontrada por chave,\n",
        "#ordenando de forma ascendente através da função sortByKey.\n",
        "#Posteriormente, salva os resultados em um arquivo txt\n",
        "def media_preco_ano(con):\n",
        "  map_resultado = rdd.map(map_media_ano)\n",
        "  reduce_resultado = map_resultado.reduceByKey(somas_media_ano)\n",
        "  resultado = reduce_resultado.mapValues(reduce_media_ano).sortByKey(ascending=True)\n",
        "  resultado.saveAsTextFile(\"/content/output/Q4\")"
      ],
      "metadata": {
        "id": "hGiSvmeILW3g"
      },
      "execution_count": null,
      "outputs": []
    },
    {
      "cell_type": "code",
      "source": [
        "#chama a função media_preco com a base de dados\n",
        "media_preco_ano(sc)"
      ],
      "metadata": {
        "id": "3IlZa9yrMwbF"
      },
      "execution_count": null,
      "outputs": []
    },
    {
      "cell_type": "markdown",
      "source": [
        "# Questão 5\n",
        "### O preço médio das transações que envolvem o Brasil por tipo de unidade, ano,categoria e fluxo do tipo 'Export'"
      ],
      "metadata": {
        "id": "uI6HRqRvPp41"
      }
    },
    {
      "cell_type": "code",
      "source": [
        "#Filtra a base de dados, retornando apenas o que possui Brazil na coluna pais\n",
        "rdd_brasil = rdd.filter(lambda x: x.split(';')[pais] == 'Brazil')\n",
        "\n",
        "#Filtra a base de dados gerada através do filter acima, retornando apenas o que possui Brazil na coluna pais e Export na coluna flow\n",
        "rdd_brasil_export = rdd_brasil.filter(lambda x: x.split(';')[flow] == 'Export')"
      ],
      "metadata": {
        "id": "b-xTTdj4QECz"
      },
      "execution_count": null,
      "outputs": []
    },
    {
      "cell_type": "code",
      "source": [
        "#Realiza a função map e retorna o ano, código da commodity, tipo de unidade e a quantidade como chave, e o preço da commodity e 1 como valor\n",
        "rdd_preco_medio_brazil_export = rdd_brasil_export.map(lambda x: ((x.split(';')[ano], x.split(';')[commodity_code], x.split(';')[quantity_name], x.split(';')[quantity]), (float(x.split(';')[trade_usd]), 1)))\n",
        "\n",
        "#Através do reduceByKey, soma os preços da commodity e a quantidade de 1 para cada chave\n",
        "somas = rdd_preco_medio_brazil_export.reduceByKey(lambda x, y: (x[0] + y[0], x[1] + y[1]))\n",
        "\n",
        "#Através da função mapValues divide a soma dos preços e a quantidade encontrada por chave\n",
        "preço_medio_commodities_ano = somas.mapValues(lambda x: (x[0] / x[1]))\n",
        "\n",
        "#Faz a ordenação ascendente pelas chaves retornando os dez primeiros resultados encontrados através da função take\n",
        "preço_medio_commodities_ano.sortByKey(ascending=True).take(10)"
      ],
      "metadata": {
        "colab": {
          "base_uri": "https://localhost:8080/"
        },
        "id": "PK6c1XHERDY-",
        "outputId": "32c84fb8-fbfd-4a39-d182-594dec73c538"
      },
      "execution_count": null,
      "outputs": [
        {
          "output_type": "execute_result",
          "data": {
            "text/plain": [
              "[(('1989', '100200', 'Weight in kilograms', '57601.0'), 24600.0),\n",
              " (('1989', '100300', 'Weight in kilograms', '28500.0'), 12029.0),\n",
              " (('1989', '100810', 'Weight in kilograms', '3396187.0'), 586041.0),\n",
              " (('1989', '100890', 'Weight in kilograms', '635000.0'), 95250.0),\n",
              " (('1989', '10310', 'Weight in kilograms', '24753.0'), 14150.0),\n",
              " (('1989', '10420', 'Weight in kilograms', '1515.0'), 2137.0),\n",
              " (('1989', '10511', 'Weight in kilograms', '42302.0'), 1249136.0),\n",
              " (('1989', '10600', 'Weight in kilograms', '20457.0'), 92071.0),\n",
              " (('1989', '110312', 'Weight in kilograms', '4277.0'), 4759.0),\n",
              " (('1989', '110811', 'Weight in kilograms', '1000.0'), 2447.0)]"
            ]
          },
          "metadata": {},
          "execution_count": 87
        }
      ]
    },
    {
      "cell_type": "code",
      "source": [
        "#Divide a base de dados através do split tendo como parâmetro ';', em seguida retorna ano, código da commodity,\n",
        "#tipo de unidade  e a quantidade como chave e o preço da commodity e 1 como valor\n",
        "def map_brasil_export (linha):\n",
        "  colunas = linha.split(';')\n",
        "  return ((colunas[ano], colunas[commodity_code], colunas[quantity_name], colunas[quantity]), (float(colunas[trade_usd]), 1))\n",
        "\n",
        "#Soma os preços da commodity e a quantidade de 1 para cada chave, retornando a soma dos preços e a soma dos contadores\n",
        "def somas_brasil_export(a,b):\n",
        "  sum_preco = a[0] + b[0]\n",
        "  sum_count = a[1] + b[1]\n",
        "  return (sum_preco, sum_count)\n",
        "\n",
        "#Divide a soma dos preços pela quantidade\n",
        "def reduce_brasil_export(a):\n",
        "  return a[0] / a[1]\n",
        "\n",
        "#Realiza o map através da função 'map_brasil_export', em seguida realiza o reduce pela chave através da função somas_brasil_export. \n",
        "#Depois, através da função mapValues chamando reduce_media_ano divide a soma dos preços e a quantidade encontrada por chave,\n",
        "#ordenando de forma ascendente pela função sortByKey.\n",
        "#Posteriormente, salva os resultados em um arquivo txt\n",
        "def media_brasil_export(con):\n",
        "  map_resultado = rdd_brasil_export.map(map_brasil_export)\n",
        "  reduce_resultado = map_resultado.reduceByKey(somas_brasil_export)\n",
        "  resultado = reduce_resultado.mapValues(reduce_media_ano).sortByKey(ascending=True)\n",
        "  resultado.saveAsTextFile(\"/content/output/Q5\")"
      ],
      "metadata": {
        "id": "qKrAmICXVQr2"
      },
      "execution_count": null,
      "outputs": []
    },
    {
      "cell_type": "code",
      "source": [
        "#chama a função media_preco com a base de dados\n",
        "media_brasil_export(sc)"
      ],
      "metadata": {
        "id": "TBfsHJINWTZk"
      },
      "execution_count": null,
      "outputs": []
    },
    {
      "cell_type": "markdown",
      "source": [
        "# Questão 6\n",
        "### Preço máximo, mínimo e média dos preços por tipo de unidade e ano  "
      ],
      "metadata": {
        "id": "QNHLCO-yZAyT"
      }
    },
    {
      "cell_type": "code",
      "source": [
        "#Divide a base de dados através do split tendo como parâmetro ';', em seguida retorna ano e o tipo de unidade como chave,\n",
        "#e o preço da commodity três vezes e 1 como valor\n",
        "def map_max_min_media(linha):\n",
        "  colunas = linha.split(\";\")\n",
        "  return ((colunas[ano], colunas[quantity_name]), (float(colunas[trade_usd]), float(colunas[trade_usd]), float(colunas[trade_usd]), 1))\n",
        "\n",
        "#Utilizando o primeiro valor dos valores, através da função max, econtra o maior preço,\n",
        "#utilizando o segundo valor dos valores, através da função min, encontra o menor preço.\n",
        "#Soma os preços da commodity, utilizando o terceiro valor dos valores, e a quantidade de 1 para cada chave,\n",
        "#utilizando o quarto valor dos valores, retornando o preço máximo, preço mínimo, a soma dos preços e a soma dos contadores\n",
        "def somas_media(a,b):\n",
        "  max_preco = max([a[0],b[0]])\n",
        "  min_preco = min([a[1],b[1]])\n",
        "\n",
        "  sum_preco = a[2] + b[2]\n",
        "  sum_count = a[3] + b[3]\n",
        "\n",
        "  return (max_preco, min_preco, sum_preco, sum_count)\n",
        "\n",
        "#Divide a soma dos preços pela quantidade, retorna o preço máximo(posição 0), preço mínimo(posição 1) e a média\n",
        "def reduce_min_max_media(a):\n",
        "  media = a[2] / a[3]\n",
        "\n",
        "  return (a[0], a[1], media)\n",
        "\n",
        "#Realiza o map através da função 'map_max_min_media', em seguida realiza o reduce pela chave através da função somas_media. \n",
        "#Depois, através da função mapValues chamando reduce_min_max_media divide a soma dos preços e a quantidade encontrada por chave,\n",
        "#retornando preço máximo(posição 0), preço mínimo(posição 1) e a média, ordenando de forma ascendente pela função sortByKey.\n",
        "#Posteriormente, salva os resultados em um arquivo txt\n",
        "def media_max_min(con):\n",
        "  map_resultado = rdd.map(map_max_min_media)\n",
        "  reduce_resultado = map_resultado.reduceByKey(somas_media)\n",
        "  resultado = reduce_resultado.mapValues(reduce_min_max_media).sortByKey(ascending=True)\n",
        "  resultado.saveAsTextFile(\"/content/output/Q6\")"
      ],
      "metadata": {
        "id": "ZaFQ5H-7ZPnA"
      },
      "execution_count": null,
      "outputs": []
    },
    {
      "cell_type": "code",
      "source": [
        "#chama a função media_max-min com a base de dados\n",
        "media_max_min(sc)"
      ],
      "metadata": {
        "id": "f0cJatblc5M2"
      },
      "execution_count": null,
      "outputs": []
    },
    {
      "cell_type": "markdown",
      "source": [
        "# Questão 7\n",
        "### A commodity mais comercializada em 2016 por tipo de fluxo"
      ],
      "metadata": {
        "id": "ZzsLFL4qwOO4"
      }
    },
    {
      "cell_type": "code",
      "source": [
        "rdd_filter = rdd.filter(lambda x: x.split(';')[ano] == '2016')\n",
        "\n",
        "def map_commodity(x):\n",
        "  colunas = x.split(\";\")\n",
        "  return ((colunas[2], colunas[4]), colunas[8])\n",
        "\n",
        "def map_2(x):\n",
        "  key = x[0]\n",
        "  value = x[1]\n",
        "  return (key[1], (key[0], value))\n",
        "\n",
        "def reduce_2(x, y):\n",
        "  result = None\n",
        "  if x[1] > y[1]:\n",
        "    result = x\n",
        "  else:\n",
        "    result = y\n",
        "  return result\n",
        "\n",
        "rdd_map = rdd_filter.map(map_commodity)\n",
        "rdd_reduce_key = rdd_map.reduceByKey(lambda x, y: x + y)\n",
        "\n",
        "rdd_map2 = rdd_reduce_key.map(map_2)\n",
        "rdd_reduce_key = rdd_map2.reduceByKey(reduce_2)\n",
        "\n",
        "rdd_reduce_key.collect()"
      ],
      "metadata": {
        "colab": {
          "base_uri": "https://localhost:8080/"
        },
        "id": "BKKmkIGvjGB1",
        "outputId": "7a07406d-7b26-49e4-ffeb-9519ba72d24c"
      },
      "execution_count": 8,
      "outputs": [
        {
          "output_type": "execute_result",
          "data": {
            "text/plain": [
              "[('Export', ('440710', '948489.0')),\n",
              " ('Import', ('321511', '6472.0')),\n",
              " ('Re-Export', ('902720', '39.0')),\n",
              " ('Re-Import', ('280110', '420.0'))]"
            ]
          },
          "metadata": {},
          "execution_count": 8
        }
      ]
    }
  ]
}